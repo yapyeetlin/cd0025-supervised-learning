{
 "cells": [
  {
   "cell_type": "code",
   "execution_count": 11,
   "metadata": {},
   "outputs": [
    {
     "name": "stdout",
     "output_type": "stream",
     "text": [
      "nothing\n"
     ]
    }
   ],
   "source": [
    "a = b\"\"\n",
    "\n",
    "try:\n",
    "    if not a.decode(\"utf-8\").splitlines()[0].replace(\"Execute Ident:\", \"\").replace(\"\\s\",\"\").split(\";\")[0:-1]:\n",
    "        print(\"true\")\n",
    "    else: print(\"false\")\n",
    "except: print(\"nothing\")"
   ]
  }
 ],
 "metadata": {
  "kernelspec": {
   "display_name": "Python 3.10.4 ('dev')",
   "language": "python",
   "name": "python3"
  },
  "language_info": {
   "codemirror_mode": {
    "name": "ipython",
    "version": 3
   },
   "file_extension": ".py",
   "mimetype": "text/x-python",
   "name": "python",
   "nbconvert_exporter": "python",
   "pygments_lexer": "ipython3",
   "version": "3.10.4"
  },
  "orig_nbformat": 4,
  "vscode": {
   "interpreter": {
    "hash": "e74039710f3605cf800ca7c360fc37a1843ba9431f9c810f09ce7f35e0833829"
   }
  }
 },
 "nbformat": 4,
 "nbformat_minor": 2
}
